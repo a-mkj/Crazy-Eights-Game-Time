{
 "cells": [
  {
   "cell_type": "markdown",
   "metadata": {},
   "source": [
    "The following is an analytical examination of some factors influencing the time a game of Crazy Eights lasts. It was inspired by a particularly long game the author recently played which, based on this analysis, had less than a 0.4% chance of occuring. We assume that game time is measured in 'turns', where each play by a given player is considered a turn.\n",
    "\n",
    "Crazy Eights is a card game for two or more players, in which the object is to get rid of the cards in your hand onto a discard pile by matching the number or suit of the previous discard. The basic game of Crazy Eights uses a standard 52 card pack, or two such packs shuffled together if there are a lot of players. Here, we will assume that only a single pack is used.\n",
    "\n",
    "Seven cards are dealt to each of the players, and the remainder of the pack is stacked face down on the table as a stock from which cards will be drawn. The top card of the stock is turned face up and placed beside the stock to start the discard pile. Starting with the player on the dealer's left and continuing clockwise, each player in turn must either play a legal card face up on top of the discard pile, or draw a card from the undealt stock. The following are considered legal play:\n",
    "\n",
    "* If the top card of the discard pile is not an Eight, the player may play any card which matches the rank or suit of the previous card (for example if the top card was the king of hearts the player could play any king or any heart).\n",
    "\n",
    "* An Eight may be played on any card, and the player of the Eight must nominate a suit.\n",
    "\n",
    "* If an Eight is on top of the pile, the player must play either another Eight or any card of the suit nominated by the person who played the Eight.\n",
    "\n",
    "* If an Eight is turned up by the dealer as the first card of the play pile, it is treated as though the dealer had played it. The dealer looks at his or her hand and nominates a suit, and the first player must play a card of that suit or another Eight.\n",
    "\n",
    "* The first player who gets rid of all their cards wins.\n",
    "\n",
    "Below, we implement and study the game of Crazy Eights in Python. This study uses simulations, and so all players are computers, and are assumed to play according to the rules specified above, choosing random drops when multiple options exist. Another crucial assumption is that suits are switched at random when an eight appears. This is unrealistic, but used for the purpose of simplicity."
   ]
  },
  {
   "cell_type": "code",
   "execution_count": 58,
   "metadata": {},
   "outputs": [],
   "source": [
    "#############################################\n",
    "############ DEFINING GAMEPLAY ##############\n",
    "#############################################\n",
    "\n",
    "#Importing packages\n",
    "from abc import abstractmethod, ABCMeta\n",
    "from itertools import cycle, product\n",
    "from random import shuffle\n",
    "import pandas as pd\n",
    "import numpy as np\n",
    "import matplotlib.pyplot as plt\n",
    "%matplotlib inline\n",
    "\n",
    "#Card deck initialization\n",
    "RANKS = '23456789TJQKA'\n",
    "SUITS = 'CDHS'\n",
    "INITIAL_CARDS = 7\n",
    "\n",
    "#Defining class for stack of cards\n",
    "class Pile(list):\n",
    "    #Creating a sequence for the cards\n",
    "    def __str__(self):\n",
    "        return ' '.join(self)\n",
    "    @property\n",
    "    def top(self):\n",
    "        #Card at the top of the stack\n",
    "        return self[-1]\n",
    "    def transfer(self, dest, card=None):\n",
    "        #Moving card and replacing from top of pile\n",
    "        if card is None:\n",
    "            card = self.top\n",
    "        self.remove(card)\n",
    "        dest.append(card)\n",
    "        return card\n",
    "\n",
    "#Defining Player class representing computer/human players\n",
    "class Player(object, metaclass=ABCMeta):\n",
    "    def __init__(self, game):\n",
    "        self.game = game\n",
    "        self.hand = Pile()\n",
    "    def can_play_on(self, card, other):\n",
    "        #True if play is allowed\n",
    "        return any(c == o for c, o in zip(card, other))\n",
    "    def draw(self):\n",
    "        #Draws and replaces card\n",
    "        return self.game.draw.transfer(self.hand)\n",
    "    def discard(self, card=None):\n",
    "        #Discards and replaces card\n",
    "        return self.hand.transfer(self.game.discard, card)\n",
    "    @abstractmethod\n",
    "    def play(self):\n",
    "        #Playing a turn\n",
    "        pass\n",
    "\n",
    "#Defining Computer player class\n",
    "class Computer(Player):\n",
    "    #Defining play for each turn\n",
    "    def play(self):\n",
    "        for card in self.hand:\n",
    "            if self.can_play_on(card, self.game.discard.top):\n",
    "                self.discard(card)\n",
    "                break\n",
    "        else:\n",
    "            self.draw()\n",
    "        cards = len(self.hand) #Number of cards in hand\n",
    "\n",
    "#Defining the Game class\n",
    "class Game( object ):\n",
    "    def __init__( self, num_players = 2, init_card_count = INITIAL_CARDS ):\n",
    "        #Basic gameplay with number of players default to 2\n",
    "        self.draw = Pile(''.join(card) for card in product(RANKS, SUITS))\n",
    "        self.discard = Pile()\n",
    "        self.players = [Computer(self)]*num_players\n",
    "        shuffle(self.draw)\n",
    "        for _, player in product(range(init_card_count), self.players):\n",
    "            player.draw()\n",
    "        self.draw.transfer(self.discard)\n",
    "    def play(self, style = 'shuffle'):\n",
    "        #Gameplay where the pile runs out\n",
    "        counter = 0\n",
    "        for player in cycle(self.players):\n",
    "            counter = counter + 1\n",
    "            player.play()\n",
    "            if not player.hand:\n",
    "                break #Player wins\n",
    "            if not self.draw:\n",
    "                self.draw, self.discard = self.discard, self.draw\n",
    "                #Shuffling pile once exhausted\n",
    "                if style == 'shuffle':\n",
    "                    shuffle(self.draw)       \n",
    "                #Reversing pile once exhausted    \n",
    "                elif style == 'reverse':\n",
    "                    self.draw.reverse()\n",
    "                self.draw.transfer(self.discard)\n",
    "            if not self.draw:\n",
    "                break\n",
    "        return counter #Returning number of gameplay turns\n"
   ]
  },
  {
   "cell_type": "markdown",
   "metadata": {},
   "source": [
    "First, we consider the simple case of a game between two players, each beginning with 7 cards. Following the standard rules, the stack is shuffled once it is exhausted to allow gameplay to continue."
   ]
  },
  {
   "cell_type": "code",
   "execution_count": 79,
   "metadata": {},
   "outputs": [],
   "source": [
    "#####################################################\n",
    "############ RUNNING BASIC SIMULATIONS ##############\n",
    "#####################################################\n",
    "\n",
    "import random\n",
    "\n",
    "#Running simulations to examine generic gameplay time\n",
    "random.seed( 789 )\n",
    "num_sim = 10000\n",
    "base_sim_store = list()\n",
    "\n",
    "#Simulations below\n",
    "for i in range( num_sim ):\n",
    "    base_sim_store.append( Game( num_players = 2 ).play( 'shuffle' ) )\n",
    "    \n",
    "#Storing results\n",
    "df_base = pd.DataFrame( { 'turns': base_sim_store } )\n",
    "    "
   ]
  },
  {
   "cell_type": "markdown",
   "metadata": {},
   "source": [
    "The basic summary statistics below show that an average game lasts around 84 turns. Assuming each player's turn takes approximately 5 seconds, this implies a game time of just over 7 minutes. The longest game in this set of simulations lasted 724 turns, implying a game time of over an hour! The shortest game is 14 turns. This is intuitive: even in the case where a player can put down a card each turn, it would take a minimum of 7 moves for that player, or 14 turns, for the player to win."
   ]
  },
  {
   "cell_type": "code",
   "execution_count": 80,
   "metadata": {},
   "outputs": [
    {
     "name": "stdout",
     "output_type": "stream",
     "text": [
      "Mean # of Turns: 84.35\n",
      "Std Dev of Turns: 70.66\n",
      "Max # of Turns: 724\n",
      "Min # of Turns: 14\n"
     ]
    }
   ],
   "source": [
    "#######################################################\n",
    "############ ANALYZING BASIC SIMULATIONS ##############\n",
    "#######################################################\n",
    "\n",
    "#Understanding summary statistics\n",
    "print( 'Mean # of Turns: ' + str( round( df_base.turns.mean(), 2 ) ) )\n",
    "print( 'Std Dev of Turns: ' + str( round( df_base.turns.std(), 2 ) ) )\n",
    "print( 'Max # of Turns: ' + str( df_base.turns.max() ) )\n",
    "print( 'Min # of Turns: ' + str( df_base.turns.min() ) )\n"
   ]
  },
  {
   "cell_type": "markdown",
   "metadata": {},
   "source": [
    "The distribution of game times is shown below."
   ]
  },
  {
   "cell_type": "code",
   "execution_count": 81,
   "metadata": {},
   "outputs": [
    {
     "data": {
      "image/png": "[encoded data removed]",
      "text/plain": [
       "<Figure size 864x504 with 1 Axes>"
      ]
     },
     "metadata": {
      "needs_background": "light"
     },
     "output_type": "display_data"
    }
   ],
   "source": [
    "#Studying distribution of turns\n",
    "plt.figure( figsize = ( 12, 7 ) )\n",
    "plt.hist( df_base.turns, bins = 50, density = True, alpha=1, label='# of Turns')\n",
    "plt.axvline( x= df_base.turns.mean(), color='r', linestyle='--', label = 'Mean')\n",
    "plt.xlabel( \"# of Turns\" )\n",
    "plt.ylabel( \"Density\" ) \n",
    "plt.legend(loc='upper right')\n",
    "plt.show()\n"
   ]
  },
  {
   "cell_type": "markdown",
   "metadata": {},
   "source": [
    "One variant of gameplay involves the approach taken when the central pile is exhausted. Conventional rules would suggest that shuffling the used pile before re-use is best, but in practice, this is time consuming and players will just reverse the used pile for a fresh start. How would this choice affect game time? This is examined below. "
   ]
  },
  {
   "cell_type": "code",
   "execution_count": 82,
   "metadata": {},
   "outputs": [],
   "source": [
    "#############################################################\n",
    "############ RUNNING PILE VARIABLE SIMULATIONS ##############\n",
    "#############################################################\n",
    "\n",
    "#Running simulations to examine variation in gameplay time following shuffling vs reversing pile\n",
    "\n",
    "num_sim = 10000\n",
    "shuffle_sim_store = list()\n",
    "reverse_sim_store = list()\n",
    "\n",
    "#Simulations below\n",
    "for i in range( num_sim ):\n",
    "    shuffle_sim_store.append( Game( num_players = 2 ).play( 'shuffle' ) )\n",
    "    reverse_sim_store.append( Game( num_players = 2 ).play( 'reverse' ) )\n",
    "    \n",
    "#Storing results\n",
    "df_pile_comp = pd.DataFrame( { 'turns_shuffle': shuffle_sim_store, 'turns_reverse': reverse_sim_store } )\n",
    "    "
   ]
  },
  {
   "cell_type": "markdown",
   "metadata": {},
   "source": [
    "The summary statistics below show that this choice can have significant implications: the average game with the pile reversed instead of shuffled is 69 turns long, much shorter than the 85 turn average where the pile is shuffled. The maximum number of turns is also reduced quite a bit."
   ]
  },
  {
   "cell_type": "code",
   "execution_count": 84,
   "metadata": {},
   "outputs": [
    {
     "name": "stdout",
     "output_type": "stream",
     "text": [
      "Scenario: Shuffle\n",
      "Mean # of Turns: 85.6\n",
      "Std Dev of Turns: 71.78\n",
      "Max # of Turns: 902\n",
      "Min # of Turns: 14\n",
      "\n",
      "\n",
      "Scenario: Reverse\n",
      "Mean # of Turns: 69.41\n",
      "Std Dev of Turns: 42.21\n",
      "Max # of Turns: 388\n",
      "Min # of Turns: 14\n"
     ]
    }
   ],
   "source": [
    "###############################################################\n",
    "############ ANALYZING PILE VARIABLE SIMULATIONS ##############\n",
    "#######################################################\n",
    "\n",
    "#Understanding summary statistics in case of shuffle\n",
    "print( 'Scenario: Shuffle' )\n",
    "print( 'Mean # of Turns: ' + str( round( df_pile_comp.turns_shuffle.mean(), 2 ) ) )\n",
    "print( 'Std Dev of Turns: ' + str( round( df_pile_comp.turns_shuffle.std(), 2 ) ) )\n",
    "print( 'Max # of Turns: ' + str( df_pile_comp.turns_shuffle.max() ) )\n",
    "print( 'Min # of Turns: ' + str( df_pile_comp.turns_shuffle.min() ) )\n",
    "\n",
    "#Understanding summary statistics in case of reverse\n",
    "print( '\\n' )\n",
    "print( 'Scenario: Reverse' )\n",
    "print( 'Mean # of Turns: ' + str( round( df_pile_comp.turns_reverse.mean(), 2 ) ) )\n",
    "print( 'Std Dev of Turns: ' + str( round( df_pile_comp.turns_reverse.std(), 2 ) ) )\n",
    "print( 'Max # of Turns: ' + str( df_pile_comp.turns_reverse.max() ) )\n",
    "print( 'Min # of Turns: ' + str( df_pile_comp.turns_reverse.min() ) )\n"
   ]
  },
  {
   "cell_type": "markdown",
   "metadata": {},
   "source": [
    "This holds true for the entire distribution. With the pile being reversed instead of shuffled, shorter game times are far more likely in general. Interestingly, the distribution appears to be almost bi-modal, as seen below."
   ]
  },
  {
   "cell_type": "code",
   "execution_count": 86,
   "metadata": {},
   "outputs": [
    {
     "data": {
      "image/png": "[encoded data removed]",
      "text/plain": [
       "<Figure size 864x504 with 1 Axes>"
      ]
     },
     "metadata": {
      "needs_background": "light"
     },
     "output_type": "display_data"
    }
   ],
   "source": [
    "#Studying distribution of turns\n",
    "plt.figure( figsize = ( 12, 7 ) )\n",
    "plt.hist( df_pile_comp.turns_shuffle, bins = 50, density = True, alpha=0.5, label='Shuffle')\n",
    "plt.axvline( x= df_pile_comp.turns_shuffle.mean(), color='r', linestyle='--', label = 'Shuffle Mean')\n",
    "plt.hist( df_pile_comp.turns_reverse, bins = 50, density = True, alpha=0.5, label='Reverse')\n",
    "plt.axvline( x= df_pile_comp.turns_reverse.mean(), color='r', linestyle=':', label = 'Reverse Mean')\n",
    "plt.xlabel( \"# of Turns\" )\n",
    "plt.ylabel( \"Density\" )\n",
    "plt.legend(loc='upper right')\n",
    "plt.show()\n"
   ]
  },
  {
   "cell_type": "markdown",
   "metadata": {},
   "source": [
    "Crazy Eights requires a minimum of two players. But any number of players could play, although more card decks may be required. Below, we assume a single deck is used, and the number of players is varied, capped at 7 (since each player starts with 7 cards, and the standard deck would not allow for 8 players)."
   ]
  },
  {
   "cell_type": "code",
   "execution_count": 87,
   "metadata": {},
   "outputs": [],
   "source": [
    "###########################################################################\n",
    "############ RUNNING SIMULATIONS WITH VARIABLES # OF PLAYERS ##############\n",
    "###########################################################################\n",
    "\n",
    "#Running simulations to examine variation in gameplay time with the number of players\n",
    "\n",
    "num_sim = 10000\n",
    "player_count = 6 \n",
    "player_count = min( player_count, 7 ) #Capped at 7 since each player is assumed to start with 7 cards\n",
    "\n",
    "sim_store_p = list()\n",
    "for i in range( player_count-1 ):\n",
    "    sim_store_p.append( list() )\n",
    "\n",
    "#Simulations below\n",
    "for i in range( num_sim ):\n",
    "    for j in range( player_count-1 ):\n",
    "        sim_store_p[ j ].append( Game( num_players = j+2 ).play( 'shuffle' ) )\n",
    "    \n",
    "#Storing results\n",
    "df_player_comp = pd.DataFrame()\n",
    "for j in range( player_count-1 ):\n",
    "    df_player_comp[ 'turns_' + str( j+2 ) + 'p' ] = sim_store_p[ j ]\n",
    "    "
   ]
  },
  {
   "cell_type": "markdown",
   "metadata": {},
   "source": [
    "As one would expect, game time increases with the number of players: it would take any given player more turns to be able to drop all his/her cards. The minimum number of turns is, as before, the product of the number of players and the initial number of cards. We note that the maximum game time does not increase as steadily as the mean, and that the standard deviation of game time is remarkably consistent as the number of players is varied."
   ]
  },
  {
   "cell_type": "code",
   "execution_count": 88,
   "metadata": {},
   "outputs": [
    {
     "name": "stdout",
     "output_type": "stream",
     "text": [
      "   Players    Mean  Std Dev  Max  Min\n",
      "0        2   85.17    71.03  684   14\n",
      "1        3   93.54    73.60  871   21\n",
      "2        4   99.45    71.31  622   28\n",
      "3        5  105.54    71.06  617   35\n",
      "4        6  113.17    72.64  658   42\n"
     ]
    }
   ],
   "source": [
    "#################################################################\n",
    "############ ANALYZING PLAYER VARIABLE SIMULATIONS ##############\n",
    "#################################################################\n",
    "\n",
    "#Studying summary statistics in each case\n",
    "df_sum_stats = pd.DataFrame()\n",
    "frame_cols = list( df_player_comp.columns )\n",
    "mean_store = list()\n",
    "std_store = list()\n",
    "max_store = list()\n",
    "min_store = list()\n",
    "\n",
    "for col in frame_cols:\n",
    "    mean_store.append( round( df_player_comp[ col ].mean(), 2 ) )\n",
    "    std_store.append( round( df_player_comp[ col ].std(), 2 ) )\n",
    "    max_store.append( df_player_comp[ col ].max() )\n",
    "    min_store.append( df_player_comp[ col ].min() )\n",
    "\n",
    "#Aggregating into Table\n",
    "df_sum_stats[ 'Players'] = list( range( 2, 2 + len( mean_store ) ) )\n",
    "df_sum_stats[ 'Mean' ] = mean_store\n",
    "df_sum_stats[ 'Std Dev' ] = std_store\n",
    "df_sum_stats[ 'Max' ] = max_store\n",
    "df_sum_stats[ 'Min' ] = min_store\n",
    "\n",
    "print( df_sum_stats )\n",
    "\n"
   ]
  },
  {
   "cell_type": "markdown",
   "metadata": {},
   "source": [
    "The plot below illustrates the monotonic increase in game time with the number of players."
   ]
  },
  {
   "cell_type": "code",
   "execution_count": 53,
   "metadata": {},
   "outputs": [
    {
     "data": {
      "image/png": "[encoded data removed]",
      "text/plain": [
       "<Figure size 864x504 with 1 Axes>"
      ]
     },
     "metadata": {
      "needs_background": "light"
     },
     "output_type": "display_data"
    }
   ],
   "source": [
    "#Visualizing change in mean game time\n",
    "plt.figure( figsize = ( 12, 7 ) )\n",
    "plt.plot( df_sum_stats[ 'Players' ], df_sum_stats[ 'Mean' ], linestyle='--', marker='o', color='b')\n",
    "plt.xlabel( '# of Players' )\n",
    "plt.ylabel( 'Mean Game Time (# of Turns)' )\n",
    "plt.show()"
   ]
  },
  {
   "cell_type": "markdown",
   "metadata": {},
   "source": [
    "The plot below illustrates the distributions of game times. Since the minimum game time keeps increasing, the distributions shift rightwards. We also note that shorter game times are less likely as the number of players increases, that is, the density starts to increase at higher gameplay times."
   ]
  },
  {
   "cell_type": "code",
   "execution_count": 89,
   "metadata": {},
   "outputs": [
    {
     "data": {
      "image/png": "[encoded data removed]",
      "text/plain": [
       "<Figure size 864x504 with 1 Axes>"
      ]
     },
     "metadata": {
      "needs_background": "light"
     },
     "output_type": "display_data"
    }
   ],
   "source": [
    "#Studying distribution of turns\n",
    "plt.figure( figsize = ( 12, 7 ) )\n",
    "for col in list( df_player_comp.columns ):\n",
    "    plt.hist( df_player_comp[ col ], bins = 50, density = True, alpha=0.5, label= 'n = ' + col[ -2:-1 ] )\n",
    "plt.xlabel( \"# of Turns\" )\n",
    "plt.ylabel( \"Density\" )\n",
    "plt.legend(loc='upper right')\n",
    "plt.show()\n"
   ]
  },
  {
   "cell_type": "markdown",
   "metadata": {},
   "source": [
    "We now vary the number of cards given to each player at the start of the game. We will return to the case of two players, and the initial number of cards (assumed to be 7 previously) is changed. Note that some versions of the game reduce the initial card allocation to 5 per player. The reason should be clear from the discussion above: 5 cards will make for quicker games, and less need for re-shuffling the used pile!"
   ]
  },
  {
   "cell_type": "code",
   "execution_count": 90,
   "metadata": {},
   "outputs": [],
   "source": [
    "################################################################################\n",
    "############ RUNNING SIMULATIONS WITH VARIABLE INITIAL CARD COUNT ##############\n",
    "################################################################################\n",
    "\n",
    "#Running simulations to examine variation in gameplay time with the initial number of cards\n",
    "\n",
    "num_sim = 10000\n",
    "starting_card_count = 20 #Capping card count at 20\n",
    "\n",
    "sim_store_c = list()\n",
    "for i in range( starting_card_count - 7 ):\n",
    "    sim_store_c.append( list() )\n",
    "\n",
    "#Simulations below\n",
    "for i in range( num_sim ):\n",
    "    for j in range( starting_card_count - 7 ):\n",
    "        sim_store_c[ j ].append( Game( init_card_count = j+7 ).play( 'shuffle' ) )\n",
    "    \n",
    "#Storing results\n",
    "df_card_comp = pd.DataFrame()\n",
    "for j in range( starting_card_count - 7 ):\n",
    "    df_card_comp[ 'turns_' + str( j+7 ) + 'c' ] = sim_store_c[ j ]\n",
    "\n"
   ]
  },
  {
   "cell_type": "markdown",
   "metadata": {},
   "source": [
    "Mean game time increases steadily, and as in the cases above, the same pattern is not noted for maximum gameplay time, or for the standard deviation of game time, both of which are stable. The minimum game play time follows the expected pattern."
   ]
  },
  {
   "cell_type": "code",
   "execution_count": 92,
   "metadata": {},
   "outputs": [
    {
     "name": "stdout",
     "output_type": "stream",
     "text": [
      "    Initial Card Count    Mean  Std Dev  Max  Min\n",
      "0                    7   84.99    70.90  706   14\n",
      "1                    8   87.45    72.27  684   16\n",
      "2                    9   89.43    71.79  768   18\n",
      "3                   10   90.55    70.01  740   20\n",
      "4                   11   92.92    71.04  638   22\n",
      "5                   12   95.48    71.71  676   24\n",
      "6                   13   96.59    70.94  668   26\n",
      "7                   14   99.53    72.27  664   28\n",
      "8                   15  101.65    71.40  774   30\n",
      "9                   16  103.37    72.71  790   32\n",
      "10                  17  104.41    72.73  826   34\n",
      "11                  18  106.46    71.59  598   36\n",
      "12                  19  108.51    71.35  742   38\n"
     ]
    }
   ],
   "source": [
    "#################################################################\n",
    "############ ANALYZING PLAYER VARIABLE SIMULATIONS ##############\n",
    "#################################################################\n",
    "\n",
    "#Studying summary statistics in each case\n",
    "df_sum_stats = pd.DataFrame()\n",
    "frame_cols = list( df_card_comp.columns )\n",
    "mean_store = list()\n",
    "std_store = list()\n",
    "max_store = list()\n",
    "min_store = list()\n",
    "\n",
    "for col in frame_cols:\n",
    "    mean_store.append( round( df_card_comp[ col ].mean(), 2 ) )\n",
    "    std_store.append( round( df_card_comp[ col ].std(), 2 ) )\n",
    "    max_store.append( df_card_comp[ col ].max() )\n",
    "    min_store.append( df_card_comp[ col ].min() )\n",
    "\n",
    "#Aggregating into Table\n",
    "df_sum_stats[ 'Initial Card Count'] = list( range( 7, 7 + len( mean_store ) ) )\n",
    "df_sum_stats[ 'Mean' ] = mean_store\n",
    "df_sum_stats[ 'Std Dev' ] = std_store\n",
    "df_sum_stats[ 'Max' ] = max_store\n",
    "df_sum_stats[ 'Min' ] = min_store\n",
    "\n",
    "print( df_sum_stats )\n",
    "\n"
   ]
  },
  {
   "cell_type": "markdown",
   "metadata": {},
   "source": [
    "The increase in average gameplay time is less steep than seen before, but still appears mostly monotonic."
   ]
  },
  {
   "cell_type": "code",
   "execution_count": 93,
   "metadata": {},
   "outputs": [
    {
     "data": {
      "image/png": "[encoded data removed]",
      "text/plain": [
       "<Figure size 864x504 with 1 Axes>"
      ]
     },
     "metadata": {
      "needs_background": "light"
     },
     "output_type": "display_data"
    }
   ],
   "source": [
    "#Visualizing change in mean game time\n",
    "plt.figure( figsize = ( 12, 7 ) )\n",
    "plt.plot( df_sum_stats[ 'Initial Card Count' ], df_sum_stats[ 'Mean' ], linestyle='--', marker='o', color='b')\n",
    "plt.xlabel( 'Initial # of Cards' )\n",
    "plt.ylabel( 'Mean Game Time (# of Turns)' )\n",
    "plt.show()"
   ]
  },
  {
   "cell_type": "markdown",
   "metadata": {},
   "source": [
    "The distribution of gameplay times is plotted below for the cases with 8, 12 and 16 initial cards. The probability of short game times is reduced, and greater density is shifted towards intermediate game times. This is consistent with the summary statistics: neither maximum time nor standard deviation is changed, and an increase in minimum time is observed. This would suggest a shift in probability mass towards intermediate gameplay times. "
   ]
  },
  {
   "cell_type": "code",
   "execution_count": 95,
   "metadata": {},
   "outputs": [
    {
     "data": {
      "image/png": "[encoded data removed]",
      "text/plain": [
       "<Figure size 864x504 with 1 Axes>"
      ]
     },
     "metadata": {
      "needs_background": "light"
     },
     "output_type": "display_data"
    }
   ],
   "source": [
    "#Studying distribution of turns\n",
    "plt.figure( figsize = ( 12, 7 ) )\n",
    "plt.hist( df_card_comp[ 'turns_8c' ], bins = 50, density = True, alpha=0.5, label= 'n = 8' )\n",
    "plt.hist( df_card_comp[ 'turns_12c' ], bins = 50, density = True, alpha=0.5, label= 'n = 12' )\n",
    "plt.hist( df_card_comp[ 'turns_16c' ], bins = 50, density = True, alpha=0.5, label= 'n = 16' )\n",
    "plt.xlabel( \"# of Turns\" )\n",
    "plt.ylabel( \"Density\" )\n",
    "plt.legend(loc='upper right')\n",
    "plt.show()\n"
   ]
  },
  {
   "cell_type": "markdown",
   "metadata": {},
   "source": [
    "The brief study above illustrates some of the fascinating patterns that can arise as a result of small variations made to even the simplest of games. An interesting point of further study would be to see how a 'smart' player could cut down game time. Realistically, a player could infer the suits/values of the card held by his/her opponents, and strategically choose which cards to drop down when possible, and what suit to switch to when an eight is available. This sort of gameplay could cut game time if one, or few players do it. But what if everyone plays strategically? By sabotaging each other's efforts to win, game time could be extended considerably. To be revisited!"
   ]
  }
 ],
 "metadata": {
  "kernelspec": {
   "display_name": "Python 3",
   "language": "python",
   "name": "python3"
  },
  "language_info": {
   "codemirror_mode": {
    "name": "ipython",
    "version": 3
   },
   "file_extension": ".py",
   "mimetype": "text/x-python",
   "name": "python",
   "nbconvert_exporter": "python",
   "pygments_lexer": "ipython3",
   "version": "3.7.3"
  }
 },
 "nbformat": 4,
 "nbformat_minor": 2
}
